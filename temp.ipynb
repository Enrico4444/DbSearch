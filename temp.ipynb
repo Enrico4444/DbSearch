{
 "cells": [
  {
   "cell_type": "code",
   "execution_count": 1,
   "metadata": {},
   "outputs": [],
   "source": [
    "class Inner():\n",
    "    def print_dict(self):\n",
    "        print(self.__dict__)\n",
    "\n",
    "class Outer(Inner):\n",
    "    def __init__(self, name):\n",
    "        self.name = name"
   ]
  },
  {
   "cell_type": "code",
   "execution_count": 2,
   "metadata": {},
   "outputs": [
    {
     "name": "stdout",
     "output_type": "stream",
     "text": [
      "{'name': 'marco'}\n"
     ]
    }
   ],
   "source": [
    "o = Outer(\"marco\")\n",
    "o.print_dict()"
   ]
  },
  {
   "cell_type": "code",
   "execution_count": 5,
   "metadata": {},
   "outputs": [
    {
     "name": "stdout",
     "output_type": "stream",
     "text": [
      "gullo\n",
      "gallo\n",
      "gillo\n"
     ]
    }
   ],
   "source": [
    "class AClass():\n",
    "    def __init__(self,name):\n",
    "        self.name = name\n",
    "        \n",
    "a = AClass(\"gullo\")\n",
    "print(a.name)\n",
    "a.name = \"gallo\"\n",
    "print(a.name)\n",
    "attr = \"name\"\n",
    "new_name = \"gillo\"\n",
    "setattr(a, attr, new_name)\n",
    "print(a.name)"
   ]
  },
  {
   "cell_type": "code",
   "execution_count": null,
   "metadata": {},
   "outputs": [],
   "source": []
  }
 ],
 "metadata": {
  "kernelspec": {
   "display_name": "Python 3",
   "language": "python",
   "name": "python3"
  },
  "language_info": {
   "codemirror_mode": {
    "name": "ipython",
    "version": 3
   },
   "file_extension": ".py",
   "mimetype": "text/x-python",
   "name": "python",
   "nbconvert_exporter": "python",
   "pygments_lexer": "ipython3",
   "version": "3.8.5"
  }
 },
 "nbformat": 4,
 "nbformat_minor": 4
}
